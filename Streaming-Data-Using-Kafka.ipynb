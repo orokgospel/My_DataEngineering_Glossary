{
  "metadata": {
    "language_info": {
      "codemirror_mode": {
        "name": "python",
        "version": 3
      },
      "file_extension": ".py",
      "mimetype": "text/x-python",
      "name": "python",
      "nbconvert_exporter": "python",
      "pygments_lexer": "ipython3",
      "version": "3.8"
    },
    "kernelspec": {
      "name": "python",
      "display_name": "Python (Pyodide)",
      "language": "python"
    }
  },
  "nbformat_minor": 4,
  "nbformat": 4,
  "cells": [
    {
      "cell_type": "markdown",
      "source": "# **Working with streaming data using Kafka**",
      "metadata": {}
    },
    {
      "cell_type": "markdown",
      "source": "**Objectives**",
      "metadata": {}
    },
    {
      "cell_type": "markdown",
      "source": "After completing this lab you will be able to:\n\n- Download and install Kafka\n- Start the Zookeeper server for Kafka metadata management\n- Start the Kafka message broker service\n- Create a topic\n- Start a producer\n- Start a consumer",
      "metadata": {}
    },
    {
      "cell_type": "markdown",
      "source": "# Exercise 1 - Download and extract Kafka",
      "metadata": {}
    },
    {
      "cell_type": "markdown",
      "source": "Open a new terminal, by clicking on the menu bar and selecting Terminal->New Terminal, as shown in the image below.",
      "metadata": {}
    },
    {
      "cell_type": "markdown",
      "source": "Run the commands below on the newly opened terminal. (You can copy the code by clicking on the little copy button on the bottom right of the codeblock below and then paste it, wherever you wish.)\n\nDownload Kafka, by running the command below:",
      "metadata": {}
    },
    {
      "cell_type": "code",
      "source": "wget https://archive.apache.org/dist/kafka/2.8.0/kafka_2.12-2.8.0.tgz",
      "metadata": {},
      "execution_count": null,
      "outputs": []
    },
    {
      "cell_type": "markdown",
      "source": "Extract kafka from the zip file by running the command below:",
      "metadata": {}
    },
    {
      "cell_type": "code",
      "source": "tar -xzf kafka_2.12-2.8.0.tgz",
      "metadata": {},
      "execution_count": null,
      "outputs": []
    },
    {
      "cell_type": "markdown",
      "source": "This creates a new directory ‘kafka_2.12-2.8.0’ in the current directory.",
      "metadata": {}
    },
    {
      "cell_type": "markdown",
      "source": "# Exercise 2 - start ZooKeeper",
      "metadata": {}
    },
    {
      "cell_type": "markdown",
      "source": "ZooKeeper, as of this version, is required for Kafka to work. ZooKeeper is responsible for the overall management of Kafka cluster. It monitors the Kafka brokers and notifies Kafka if any broker or partition goes down, or if a new broker or partition goes up.",
      "metadata": {}
    },
    {
      "cell_type": "markdown",
      "source": "ZooKeeper is required for Kafka to work. Start the ZooKeeper server.",
      "metadata": {}
    },
    {
      "cell_type": "code",
      "source": "cd kafka_2.12-2.8.0\nbin/zookeeper-server-start.sh config/zookeeper.properties",
      "metadata": {},
      "execution_count": null,
      "outputs": []
    },
    {
      "cell_type": "markdown",
      "source": "# Exercise 3 - Start the Kafka broker service",
      "metadata": {}
    },
    {
      "cell_type": "markdown",
      "source": "Start a new terminal.\n\nRun the commands below. This will start the Kafka message broker service.",
      "metadata": {}
    },
    {
      "cell_type": "code",
      "source": "cd kafka_2.12-2.8.0\nbin/kafka-server-start.sh config/server.properties",
      "metadata": {},
      "execution_count": null,
      "outputs": []
    },
    {
      "cell_type": "markdown",
      "source": "# Exercise 4 - Create a topic",
      "metadata": {}
    },
    {
      "cell_type": "markdown",
      "source": "You need to create a topic before you can start to post messages.\n\nTo create a topic named news, start a new terminal and run the command below.",
      "metadata": {}
    },
    {
      "cell_type": "code",
      "source": "cd kafka_2.12-2.8.0\nbin/kafka-topics.sh --create --topic news --bootstrap-server localhost:9092",
      "metadata": {},
      "execution_count": null,
      "outputs": []
    },
    {
      "cell_type": "markdown",
      "source": "You will see the message: ‘Created topic news.’",
      "metadata": {}
    },
    {
      "cell_type": "markdown",
      "source": "# Exercise 5 - Start Producer",
      "metadata": {}
    },
    {
      "cell_type": "markdown",
      "source": "You need a producer to send messages to Kafka. Run the command below to start a producer.",
      "metadata": {}
    },
    {
      "cell_type": "code",
      "source": "bin/kafka-console-producer.sh --topic news --bootstrap-server localhost:9092",
      "metadata": {},
      "execution_count": null,
      "outputs": []
    },
    {
      "cell_type": "markdown",
      "source": "Once the producer starts, and you get the ‘>’ prompt, type any text message and press enter. Or you can copy the text below and paste. The below text sends three messages to kafka.",
      "metadata": {}
    },
    {
      "cell_type": "code",
      "source": "Good morning\nGood day\nEnjoy the Kafka lab",
      "metadata": {},
      "execution_count": null,
      "outputs": []
    },
    {
      "cell_type": "markdown",
      "source": "# Exercise 6 - Start Consumer",
      "metadata": {}
    },
    {
      "cell_type": "markdown",
      "source": "You need a consumer to read messages from kafka.\n\nOpen a new terminal.\n\nRun the command below to listen to the messages in the topic news.",
      "metadata": {}
    },
    {
      "cell_type": "code",
      "source": "cd kafka_2.12-2.8.0\nbin/kafka-console-consumer.sh --topic news --from-beginning --bootstrap-server localhost:9092",
      "metadata": {},
      "execution_count": null,
      "outputs": []
    },
    {
      "cell_type": "markdown",
      "source": "You should see all the messages you sent from the producer appear here.\n\nYou can go back to the producer terminal and type some more messages, one message per line, and you will see them appear here.",
      "metadata": {}
    },
    {
      "cell_type": "markdown",
      "source": "# Exercise 7 - Explore Kafka directories.",
      "metadata": {}
    },
    {
      "cell_type": "raw",
      "source": "Kafka uses the directory /tmp/kakfa-logs to store the messages.\n\nExplore the folder news-0 inside /tmp/kakfa-logs.\n\nThis is where all the messages are stored.\n\nExplore the folder /home/project/kafka_2.12-2.8.0\n\nThis folder has the below 3 sub directories.\n\nDirectory\tContents\nbin\tshell scripts to control kafka and zookeeper\nconfig\tconfiguration files\nlogs\tlog files forkafka and zookeeper",
      "metadata": {}
    },
    {
      "cell_type": "markdown",
      "source": "# Exercise 8 - Clean up",
      "metadata": {}
    },
    {
      "cell_type": "markdown",
      "source": "Delete the kafka installation file.",
      "metadata": {}
    },
    {
      "cell_type": "code",
      "source": "rm kafka_2.12-2.8.0.tgz",
      "metadata": {},
      "execution_count": null,
      "outputs": []
    },
    {
      "cell_type": "code",
      "source": "",
      "metadata": {},
      "execution_count": null,
      "outputs": []
    }
  ]
}