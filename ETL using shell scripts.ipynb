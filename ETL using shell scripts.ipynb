{
  "metadata": {
    "language_info": {
      "codemirror_mode": {
        "name": "python",
        "version": 3
      },
      "file_extension": ".py",
      "mimetype": "text/x-python",
      "name": "python",
      "nbconvert_exporter": "python",
      "pygments_lexer": "ipython3",
      "version": "3.8"
    },
    "kernelspec": {
      "name": "python",
      "display_name": "Python (Pyodide)",
      "language": "python"
    }
  },
  "nbformat_minor": 4,
  "nbformat": 4,
  "cells": [
    {
      "cell_type": "markdown",
      "source": "# **ETL using shell scripts (Using PostgreSQL)**",
      "metadata": {}
    },
    {
      "cell_type": "markdown",
      "source": "Completing helped me able to:\n- **Extract** data from a delimited file.\n- **Transform** text data.\n- **Load data** into a database using shell commands.",
      "metadata": {}
    },
    {
      "cell_type": "markdown",
      "source": "# Extracting:",
      "metadata": {}
    },
    {
      "cell_type": "markdown",
      "source": "**cut**   (command)",
      "metadata": {}
    },
    {
      "cell_type": "markdown",
      "source": "- helps us extract selected characters or fields from a line of text.",
      "metadata": {}
    },
    {
      "cell_type": "markdown",
      "source": "Given that in a computer system, there is a file called \"datafile,\" which contains information about users. \n\nThis file uses \":\" to separate different pieces of information (like user names, user IDs, etc.). For example, a line in the file might look like this:",
      "metadata": {}
    },
    {
      "cell_type": "code",
      "source": "john:1001:1000:/home/john\ngeorge:1001:1000:/home/george\nmark:1001:1000:/home/mark\npeace:1001:1000:/home/peace",
      "metadata": {},
      "execution_count": null,
      "outputs": []
    },
    {
      "cell_type": "markdown",
      "source": "Here, \n- the user name is \"john,\" \n- the user ID is \"1001,\" \n- the group ID is \"1000,\" \n- the home directory is \"/home/john,\" \netc \n\n(the default shell will be \"/bin/bash.\")",
      "metadata": {}
    },
    {
      "cell_type": "markdown",
      "source": " **We can do this in a few different ways using cut command:**",
      "metadata": {}
    },
    {
      "cell_type": "markdown",
      "source": "**1**. Extracting a single column:",
      "metadata": {}
    },
    {
      "cell_type": "code",
      "source": "cut -d\":\" -f1 datafile",
      "metadata": {},
      "execution_count": null,
      "outputs": []
    },
    {
      "cell_type": "markdown",
      "source": "The command above tells the computer to use \":\" as the delimiter (\"-d\":\"\") and extract the first field (\"-f1\") which is \"john:\".",
      "metadata": {}
    },
    {
      "cell_type": "markdown",
      "source": "**2.** Extracting multiple columns:",
      "metadata": {}
    },
    {
      "cell_type": "code",
      "source": "cut -d\":\" -f1,3,6 datafile",
      "metadata": {},
      "execution_count": null,
      "outputs": []
    },
    {
      "cell_type": "markdown",
      "source": "The comman above tells the computer to extract the user names (1st field), user IDs (3rd field), and home directories (6th field) from the file which:\n\n- john:1000:/home/john",
      "metadata": {}
    },
    {
      "cell_type": "markdown",
      "source": "**3.** Extracting a range of columns:",
      "metadata": {}
    },
    {
      "cell_type": "code",
      "source": "cut -d\":\" -f3-6 datafile",
      "metadata": {},
      "execution_count": null,
      "outputs": []
    },
    {
      "cell_type": "markdown",
      "source": "The comman above tells the computer to extract fields 3 to 6 (user ID, group ID, user description, and home directory) from the file.",
      "metadata": {}
    },
    {
      "cell_type": "markdown",
      "source": "To use the cut command to get only the first name and home directory of each line in the \"datafile,\" you can follow these steps:\nMake sure you have the \"datafile\" with the contents you provided below:",
      "metadata": {}
    },
    {
      "cell_type": "code",
      "source": "john:1001:1000:/home/john\ngeorge:1001:1000:/home/george\nmark:1001:1000:/home/mark\npeace:1001:1000:/home/peace",
      "metadata": {},
      "execution_count": null,
      "outputs": []
    },
    {
      "cell_type": "markdown",
      "source": "Use the cut command with the appropriate options:\n\nThe command you need to use is:",
      "metadata": {}
    },
    {
      "cell_type": "code",
      "source": "cut -d\":\" -f1,4 datafile",
      "metadata": {},
      "execution_count": null,
      "outputs": []
    },
    {
      "cell_type": "markdown",
      "source": "**Explanation:**\n\n-d\":\": This option specifies that the delimiter used in the file is \":\".\n\n-f1,4: This option tells cut to extract the first field (username) and the fourth field (home directory) from each line.\n\nWhen you run this command, the output will be:",
      "metadata": {}
    },
    {
      "cell_type": "code",
      "source": "john:/home/john\ngeorge:/home/george\nmark:/home/mark\npeace:/home/peace",
      "metadata": {},
      "execution_count": null,
      "outputs": []
    },
    {
      "cell_type": "markdown",
      "source": "# Transform:",
      "metadata": {}
    },
    {
      "cell_type": "markdown",
      "source": "**tr**    (command)",
      "metadata": {}
    },
    {
      "cell_type": "markdown",
      "source": "tr is a filter command used to translate, squeeze, and/or delete characters.",
      "metadata": {}
    },
    {
      "cell_type": "markdown",
      "source": "# Create a table",
      "metadata": {}
    },
    {
      "cell_type": "markdown",
      "source": "**Getting the environment ready**",
      "metadata": {}
    },
    {
      "cell_type": "markdown",
      "source": "Will use:\nTerminal->New Terminal",
      "metadata": {}
    },
    {
      "cell_type": "markdown",
      "source": "In this exercise we will create a table called ‘users‘ in the PostgreSQL database. This table will hold the user account information.\n\nThe table ‘users’ will have the following columns:\n\n- uname\n- uid\n- home\n\nStep 1: Connect to the database server\n\nUse the connection string saved in the previous exercise to connect to the PostgreSQL server.\n\nRun the command below to login to PostgreSQL server.",
      "metadata": {}
    },
    {
      "cell_type": "code",
      "source": "Exercise 3 - Start the PostgreSQL database.",
      "metadata": {},
      "execution_count": null,
      "outputs": []
    },
    {
      "cell_type": "markdown",
      "source": "Run the command below to login to PostgreSQL server.",
      "metadata": {}
    },
    {
      "cell_type": "code",
      "source": "psql --username=postgres --host=localhost",
      "metadata": {},
      "execution_count": null,
      "outputs": []
    },
    {
      "cell_type": "markdown",
      "source": "You will get the psql prompt: **‘postgres=#’**",
      "metadata": {}
    },
    {
      "cell_type": "markdown",
      "source": "Step 2: Connect to a database.\n\nWe will use a database called **template1** which is already available by default.\n\nTo connect to this database, run the following command at the\n\n‘postgres=#’ prompt.",
      "metadata": {}
    },
    {
      "cell_type": "code",
      "source": "\\c template1",
      "metadata": {},
      "execution_count": null,
      "outputs": []
    },
    {
      "cell_type": "markdown",
      "source": "You will get the following message.",
      "metadata": {}
    },
    {
      "cell_type": "code",
      "source": "You are now connected to database \"template1\" as user \"postgres\".",
      "metadata": {},
      "execution_count": null,
      "outputs": []
    },
    {
      "cell_type": "markdown",
      "source": "Also, your prompt will change to **‘template1=#’.**",
      "metadata": {}
    },
    {
      "cell_type": "markdown",
      "source": "Step 3: Create the table\n\nRun the following statement at the ‘template1=#’ prompt:",
      "metadata": {}
    },
    {
      "cell_type": "code",
      "source": "create table users(username varchar(50),userid int,homedirectory varchar(100));",
      "metadata": {},
      "execution_count": null,
      "outputs": []
    },
    {
      "cell_type": "markdown",
      "source": "If the table is created successfully, you will get the message below.",
      "metadata": {}
    },
    {
      "cell_type": "code",
      "source": "CREATE TABLE",
      "metadata": {},
      "execution_count": null,
      "outputs": []
    },
    {
      "cell_type": "markdown",
      "source": "Step 4: Quit the psql client\n\nTo exit the psql client and come back to the Linux shell, run the following command:",
      "metadata": {}
    },
    {
      "cell_type": "code",
      "source": "\\q",
      "metadata": {},
      "execution_count": null,
      "outputs": []
    },
    {
      "cell_type": "markdown",
      "source": "# EXERCISE 1 & TASK 1",
      "metadata": {}
    },
    {
      "cell_type": "markdown",
      "source": "# Loading data into a PostgreSQL table.",
      "metadata": {}
    },
    {
      "cell_type": "markdown",
      "source": "In this exercise, we will create a shell script which does the following.\n\n- Extract the user name, user id, and home directory path of each user account defined in the /etc/passwd file.\n- Save the data into a comma separated (CSV) format.\n- Load the data in the csv file into a table in PostgreSQL database.",
      "metadata": {}
    },
    {
      "cell_type": "markdown",
      "source": "Step 1: On the menu on the lab screen, use File->New File to create a new file.",
      "metadata": {}
    },
    {
      "cell_type": "markdown",
      "source": "Step 2: Give the name as ‘csv2db.sh’ and click ‘OK’",
      "metadata": {}
    },
    {
      "cell_type": "markdown",
      "source": "Step 3: State the objective of the script using comments.",
      "metadata": {}
    },
    {
      "cell_type": "code",
      "source": "# This script\n# Extracts data from /etc/passwd file into a CSV file.\n\n# The csv data file contains the user name, user id and \n# home directory of each user account defined in /etc/passwd\n\n# Transforms the text delimiter from \":\" to \",\".\n# Loads the data from the CSV file into a table in PostgreSQL database.",
      "metadata": {},
      "execution_count": null,
      "outputs": []
    },
    {
      "cell_type": "markdown",
      "source": "Step 4: Save the file using the File->Save menu option.",
      "metadata": {}
    },
    {
      "cell_type": "markdown",
      "source": "**Extracting the required user information from datafile**",
      "metadata": {}
    },
    {
      "cell_type": "markdown",
      "source": "In this step, we will extract user name (field 1), user id (field 3), and home directory path (field 6) from datafile file using the cut command.\n\nThe datafile has “:” symbol as the column separator.\n\nCopy the following lines and add them to the end of the script.",
      "metadata": {}
    },
    {
      "cell_type": "code",
      "source": "# Extract phase\n\necho \"Extracting data\"\n\n# Extract the columns 1 (user name), 2 (user id) and \n# 6 (home directory path) from datafile\n\ncut -d\":\" -f1,3,6 datafile",
      "metadata": {},
      "execution_count": null,
      "outputs": []
    },
    {
      "cell_type": "markdown",
      "source": "Save the file.",
      "metadata": {}
    },
    {
      "cell_type": "markdown",
      "source": "Run the script below in your terminal:",
      "metadata": {}
    },
    {
      "cell_type": "code",
      "source": "bash csv2db.sh",
      "metadata": {},
      "execution_count": null,
      "outputs": []
    },
    {
      "cell_type": "markdown",
      "source": "Verify that the output contains the three fields, that we extracted.",
      "metadata": {}
    },
    {
      "cell_type": "markdown",
      "source": "**Redirect the extracted output into a file.**\n\nIn this step, we will redirect the extracted data into a file named extracted-data.txt",
      "metadata": {}
    },
    {
      "cell_type": "markdown",
      "source": "Replace the cut command at end of the script with the following command.",
      "metadata": {}
    },
    {
      "cell_type": "code",
      "source": "# Extract phase\n\necho \"Extracting data\"\n\n# Extract the columns 1 (user name), 2 (user id) and \n# 6 (home directory path) from datafile\n\ncut -d\":\" -f1,3,6 datafile > extracted-data.txt",
      "metadata": {},
      "execution_count": null,
      "outputs": []
    },
    {
      "cell_type": "markdown",
      "source": "Save the file.",
      "metadata": {}
    },
    {
      "cell_type": "markdown",
      "source": "Run the script.",
      "metadata": {}
    },
    {
      "cell_type": "code",
      "source": "bash csv2db.sh",
      "metadata": {},
      "execution_count": null,
      "outputs": []
    },
    {
      "cell_type": "markdown",
      "source": "Run the command below to verify that the file extracted-data.txt is created, and has the content:",
      "metadata": {}
    },
    {
      "cell_type": "code",
      "source": "cat extracted-data.txt",
      "metadata": {},
      "execution_count": null,
      "outputs": []
    },
    {
      "cell_type": "markdown",
      "source": "**Transform the data into CSV format**",
      "metadata": {}
    },
    {
      "cell_type": "markdown",
      "source": "The extracted columns are separated by the original “:” delimiter.\n\nWe need to convert this into a “,” delimited file.\n\nAdd the below lines at the end of the script:",
      "metadata": {}
    },
    {
      "cell_type": "code",
      "source": "\n\n# Extract phase\n\necho \"Extracting data\"\n\n# Extract the columns 1 (user name), 2 (user id) and \n# 6 (home directory path) from datafile\n\ncut -d\":\" -f1,3,6 datafile > extracted-data.txt\n\n# Transform phase\necho \"Transforming data\"\n# read the extracted data and replace the colons with commas.\n\ntr \":\" \",\" < extracted-data.txt",
      "metadata": {},
      "execution_count": null,
      "outputs": []
    },
    {
      "cell_type": "markdown",
      "source": "Save the file.\n\nRun the script below in the terminal",
      "metadata": {}
    },
    {
      "cell_type": "code",
      "source": "bash csv2db.sh",
      "metadata": {},
      "execution_count": null,
      "outputs": []
    },
    {
      "cell_type": "markdown",
      "source": "Verify that the output contains ‘,’ in place of “:”.\n\nReplace the tr command at end of the script with the command below.",
      "metadata": {}
    },
    {
      "cell_type": "code",
      "source": "tr \":\" \",\" < extracted-data.txt > transformed-data.csv",
      "metadata": {},
      "execution_count": null,
      "outputs": []
    },
    {
      "cell_type": "code",
      "source": "\n# Extract phase\necho \"Extracting data\"\n\n# Extract the columns 1 (user name), 2 (user id) and \n# 6 (home directory path) from datafile\n\ncut -d\":\" -f1,3,6 datafile > extracted-data.txt\n\n# Transform phase\necho \"Transforming data\"\n# read the extracted data and replace the colons with commas.\ntr \":\" \",\" < extracted-data.txt > transformed-data.csv",
      "metadata": {},
      "execution_count": null,
      "outputs": []
    },
    {
      "cell_type": "markdown",
      "source": "Save the file.\n\nRun the script.",
      "metadata": {}
    },
    {
      "cell_type": "code",
      "source": "bash csv2db.sh",
      "metadata": {},
      "execution_count": null,
      "outputs": []
    },
    {
      "cell_type": "markdown",
      "source": "Run the command below to verify that the file transformed-data.csv is created, and has the content.",
      "metadata": {}
    },
    {
      "cell_type": "code",
      "source": "cat transformed-data.csv",
      "metadata": {},
      "execution_count": null,
      "outputs": []
    },
    {
      "cell_type": "markdown",
      "source": "**Load the data into the table ‘users’ in PostgreSQL**\n",
      "metadata": {}
    },
    {
      "cell_type": "markdown",
      "source": "\nTo load data from a shell script, we will use the psql client utility in a non-interactive manner.\n\nThis is done by sending the database commands through a command pipeline to psql with the help of echo command.\n\nStep 1: Add the copy command\n\nPostgreSQL command to copy data from a CSV file to a table is COPY.\n\nThe basic structure of the command which we will use in our script is,",
      "metadata": {}
    },
    {
      "cell_type": "code",
      "source": "COPY table_name FROM 'filename' DELIMITERS 'delimiter_character' FORMAT;",
      "metadata": {},
      "execution_count": null,
      "outputs": []
    },
    {
      "cell_type": "markdown",
      "source": "Now, add the lines below to the end of the script ‘csv2db.sh’.",
      "metadata": {}
    },
    {
      "cell_type": "code",
      "source": "# Load phase\necho \"Loading data\"\n# Send the instructions to connect to 'template1' and\n# copy the file to the table 'users' through command pipeline.\n\necho \"\\c template1;\\COPY users  FROM '/home/project/transformed-data.csv' DELIMITERS ',' CSV;\" | psql --username=postgres --host=localhost",
      "metadata": {},
      "execution_count": null,
      "outputs": []
    },
    {
      "cell_type": "code",
      "source": "Save the file.",
      "metadata": {},
      "execution_count": null,
      "outputs": []
    },
    {
      "cell_type": "code",
      "source": "# This script\n# Extracts data from /etc/passwd file into a CSV file.\n\n# The csv data file contains the user name, user id and \n# home directory of each user account defined in /etc/passwd\n\n# Transforms the text delimiter from \":\" to \",\".\n# Loads the data from the CSV file into a table in PostgreSQL database.\n\n# Extract phase\necho \"Extracting data\"\n\n# Extract the columns 1 (user name), 2 (user id) and \n# 6 (home directory path) from datafile\n\ncut -d\":\" -f1,3,6 datafile > extracted-data.txt\n\n# Transform phase\necho \"Transforming data\"\n# read the extracted data and replace the colons with commas.\ntr \":\" \",\" < extracted-data.txt > transformed-data.csv\n\n# Load phase\necho \"Loading data\"\n# Send the instructions to connect to 'template1' and\n# copy the file to the table 'users' through command pipeline.\n\necho \"\\c template1;\\COPY users  FROM '/home/project/transformed-data.csv' DELIMITERS ',' CSV;\" | psql --username=postgres --host=localhost",
      "metadata": {},
      "execution_count": null,
      "outputs": []
    },
    {
      "cell_type": "markdown",
      "source": "Run the script.",
      "metadata": {}
    },
    {
      "cell_type": "code",
      "source": "bash csv2db.sh",
      "metadata": {},
      "execution_count": null,
      "outputs": []
    },
    {
      "cell_type": "markdown",
      "source": "Run the command below to verify that the table users is populated with the data.",
      "metadata": {}
    },
    {
      "cell_type": "code",
      "source": "echo '\\c template1; \\\\SELECT * from users;' | psql --username=postgres --host=localhost",
      "metadata": {},
      "execution_count": null,
      "outputs": []
    },
    {
      "cell_type": "markdown",
      "source": "Congratulations! You have created an ETL script using shell scripting.",
      "metadata": {}
    },
    {
      "cell_type": "markdown",
      "source": ".",
      "metadata": {}
    },
    {
      "cell_type": "markdown",
      "source": "# EXERCISE 2 & TAsk 2",
      "metadata": {}
    },
    {
      "cell_type": "markdown",
      "source": "Copy the data in the file ‘web-server-access-log.txt.gz’ to the table ‘access_log’ in the PostgreSQL database ‘template1’.",
      "metadata": {}
    },
    {
      "cell_type": "markdown",
      "source": "The file is available at the location : https://cf-courses-data.s3.us.cloud-object-storage.appdomain.cloud/IBM-DB0250EN-SkillsNetwork/labs/Bash%20Scripting/ETL%20using%20shell%20scripting/web-server-access-log.txt.gz",
      "metadata": {}
    },
    {
      "cell_type": "markdown",
      "source": "The following are the columns and their data types in the file:\n\n- a. timestamp - TIMESTAMP\n\n- b. latitude - float\n\n- c. longitude - float\n\n- d. visitorid - char(37)\n\nand two more columns: accessed_from_mobile (boolean) and browser_code (int)\n\nThe columns which we need to copy to the table are the first four coumns : timestamp, latitude, longitude and visitorid.\n\nNOTE: The file comes with a header. So use the ‘HEADER’ option in the ‘COPY’ command.\n\nThe problem may be solved by completing the following tasks:",
      "metadata": {}
    },
    {
      "cell_type": "markdown",
      "source": "**1: Start the Postgres server.**\n\nIf the server is not already started, run the following command:",
      "metadata": {}
    },
    {
      "cell_type": "code",
      "source": "start_postgres",
      "metadata": {},
      "execution_count": null,
      "outputs": []
    },
    {
      "cell_type": "markdown",
      "source": "Create the table.\n\nCreate a table named access_log to store the timestamp, latitude, longitude and visitorid.",
      "metadata": {}
    },
    {
      "cell_type": "markdown",
      "source": "Step 1: Connect to the database:\n\nRun the following command at the terminal to connect to Postgres",
      "metadata": {}
    },
    {
      "cell_type": "code",
      "source": "psql --username=postgres --host=localhost",
      "metadata": {},
      "execution_count": null,
      "outputs": []
    },
    {
      "cell_type": "markdown",
      "source": "Step 2: At the postgres=# prompt, run the following command to connect to the database ‘template1’",
      "metadata": {}
    },
    {
      "cell_type": "code",
      "source": "\\c template1;",
      "metadata": {},
      "execution_count": null,
      "outputs": []
    },
    {
      "cell_type": "markdown",
      "source": "Step 3: Once you connect to the database, run the command to create the table called ‘access_log’:",
      "metadata": {}
    },
    {
      "cell_type": "code",
      "source": "CREATE TABLE access_log(timestamp TIMESTAMP, latitude float, longitude float, visitor_id char(37));",
      "metadata": {},
      "execution_count": null,
      "outputs": []
    },
    {
      "cell_type": "markdown",
      "source": "Step 4: Once you receive the confirmation message ‘CREATE TABLE’, quit from psql:",
      "metadata": {}
    },
    {
      "cell_type": "code",
      "source": "\\q",
      "metadata": {},
      "execution_count": null,
      "outputs": []
    },
    {
      "cell_type": "markdown",
      "source": "**Task 3.** Create a shell script named cp-access-log.sh and add commands to complete the remaining tasks to extract and copy the data to the database.",
      "metadata": {}
    },
    {
      "cell_type": "markdown",
      "source": "Step 1: On the menu on the lab screen, use File->New File to create a new file.\n\nStep 2: Give the name as cp-access-log.sh and click ‘OK’.\n\nStep 3: State the objective of the script using comments.\n\nCopy and paste the following lines into the newly created file.\n",
      "metadata": {}
    },
    {
      "cell_type": "code",
      "source": "# cp-access-log.sh\n# This script downloads the file 'web-server-access-log.txt.gz'\n# from \"https://cf-courses-data.s3.us.cloud-object-storage.appdomain.cloud/IBM-DB0250EN-SkillsNetwork/labs/Bash%20Scripting/ETL%20using%20shell%20scripting/\".\n\n# The script then extracts the .txt file using gunzip.\n\n# The .txt file contains the timestamp, latitude, longitude \n# and visitor id apart from other data.\n\n# Transforms the text delimeter from \"#\" to \",\" and saves to a csv file.\n# Loads the data from the CSV file into the table 'access_log' in PostgreSQL database.",
      "metadata": {},
      "execution_count": null,
      "outputs": []
    },
    {
      "cell_type": "markdown",
      "source": "**Task 4.** Download the access log file.\n\nOpen terminal\n\nAdd the wget command to the script to download the file.",
      "metadata": {}
    },
    {
      "cell_type": "code",
      "source": "# Download the access log file\n\nwget \"https://cf-courses-data.s3.us.cloud-object-storage.appdomain.cloud/IBM-DB0250EN-SkillsNetwork/labs/Bash%20Scripting/ETL%20using%20shell%20scripting/web-server-access-log.txt.gz\"",
      "metadata": {},
      "execution_count": null,
      "outputs": []
    },
    {
      "cell_type": "markdown",
      "source": "Task 5. Unzip the gzip file.\n\nRun the gunzip command to unzip the .gz file and extract the .txt file.",
      "metadata": {}
    },
    {
      "cell_type": "code",
      "source": "# Unzip the file to extract the .txt file.\ngunzip -f web-server-access-log.txt.gz",
      "metadata": {},
      "execution_count": null,
      "outputs": []
    },
    {
      "cell_type": "markdown",
      "source": "**Task 6.** Extract required fields from the file.\n\nExtract timestamp, latitude, longitude and visitorid which are the first four fields from the file using the cut command.",
      "metadata": {}
    },
    {
      "cell_type": "code",
      "source": "# Extract phase\n\necho \"Extracting data\"\n\n# Extract the columns 1 (timestamp), 2 (latitude), 3 (longitude) and \n# 4 (visitorid)\n\ncut -d\"#\" -f1-4 web-server-access-log.txt  ",
      "metadata": {},
      "execution_count": null,
      "outputs": []
    },
    {
      "cell_type": "code",
      "source": "# cp-access-log.sh\n# This script downloads the file 'web-server-access-log.txt.gz'\n# from \"https://cf-courses-data.s3.us.cloud-object-storage.appdomain.cloud/IBM-DB0250EN-SkillsNetwork/labs/Bash%20Scripting/ETL%20using%20shell%20scripting/\".\n\n# The script then extracts the .txt file using gunzip.\n\n# The .txt file contains the timestamp, latitude, longitude \n# and visitor id apart from other data.\n\n# Transforms the text delimeter from \"#\" to \",\" and saves to a csv file.\n# Loads the data from the CSV file into the table 'access_log' in PostgreSQL database.\n\n# Extract phase\n\necho \"Extracting data\"\n\n# Extract the columns 1 (timestamp), 2 (latitude), 3 (longitude) and \n# 4 (visitorid)\n\ncut -d\"#\" -f1-4 web-server-access-log.txt  ",
      "metadata": {},
      "execution_count": null,
      "outputs": []
    },
    {
      "cell_type": "markdown",
      "source": "Step 2: Save the file.\n\nStep 3: Run the script.",
      "metadata": {}
    },
    {
      "cell_type": "code",
      "source": "bash cp-access-log.sh",
      "metadata": {},
      "execution_count": null,
      "outputs": []
    },
    {
      "cell_type": "markdown",
      "source": "**Task 7.** Redirect the extracted output into a file.\n\nRedirect the extracted data into a file named extracted-data.txt",
      "metadata": {}
    },
    {
      "cell_type": "code",
      "source": "cut -d\"#\" -f1-4 web-server-access-log.txt > extracted-data.txt",
      "metadata": {},
      "execution_count": null,
      "outputs": []
    },
    {
      "cell_type": "code",
      "source": "# cp-access-log.sh\n# This script downloads the file 'web-server-access-log.txt.gz'\n# from \"https://cf-courses-data.s3.us.cloud-object-storage.appdomain.cloud/IBM-DB0250EN-SkillsNetwork/labs/Bash%20Scripting/ETL%20using%20shell%20scripting/\".\n\n# The script then extracts the .txt file using gunzip.\n\n# The .txt file contains the timestamp, latitude, longitude \n# and visitor id apart from other data.\n\n# Transforms the text delimeter from \"#\" to \",\" and saves to a csv file.\n# Loads the data from the CSV file into the table 'access_log' in PostgreSQL database.\n\n# Extract phase\n\necho \"Extracting data\"\n\n# Extract the columns 1 (timestamp), 2 (latitude), 3 (longitude) and \n# 4 (visitorid)\n\ncut -d\"#\" -f1-4 web-server-access-log.txt > extracted-data.txt",
      "metadata": {},
      "execution_count": null,
      "outputs": []
    },
    {
      "cell_type": "markdown",
      "source": "Step 2: Save the file.\n\nStep 3: Run the script.",
      "metadata": {}
    },
    {
      "cell_type": "code",
      "source": "bash cp-access-log.sh",
      "metadata": {},
      "execution_count": null,
      "outputs": []
    },
    {
      "cell_type": "markdown",
      "source": "Step 4: Run the command below to verify that the file extracted-data.txt is created, and has the content.",
      "metadata": {}
    },
    {
      "cell_type": "code",
      "source": "cat extracted-data.txt",
      "metadata": {},
      "execution_count": null,
      "outputs": []
    },
    {
      "cell_type": "markdown",
      "source": "**Task 8.** Transform the data into CSV format.\n\nThe extracted columns are separated by the original “#” delimiter.\n\nWe need to convert this into a “,” delimited file.",
      "metadata": {}
    },
    {
      "cell_type": "markdown",
      "source": "Step 1: Add the lines below at the end of the script.",
      "metadata": {}
    },
    {
      "cell_type": "code",
      "source": "# Transform phase\necho \"Transforming data\"\n\n# read the extracted data and replace the colons with commas.\ntr \"#\" \",\" < extracted-data.txt",
      "metadata": {},
      "execution_count": null,
      "outputs": []
    },
    {
      "cell_type": "markdown",
      "source": "addded:",
      "metadata": {}
    },
    {
      "cell_type": "code",
      "source": "# cp-access-log.sh\n# This script downloads the file 'web-server-access-log.txt.gz'\n# from \"https://cf-courses-data.s3.us.cloud-object-storage.appdomain.cloud/IBM-DB0250EN-SkillsNetwork/labs/Bash%20Scripting/ETL%20using%20shell%20scripting/\".\n\n# The script then extracts the .txt file using gunzip.\n\n# The .txt file contains the timestamp, latitude, longitude \n# and visitor id apart from other data.\n\n# Transforms the text delimeter from \"#\" to \",\" and saves to a csv file.\n# Loads the data from the CSV file into the table 'access_log' in PostgreSQL database.\n\n# Extract phase\n\necho \"Extracting data\"\n\n# Extract the columns 1 (timestamp), 2 (latitude), 3 (longitude) and \n# 4 (visitorid)\n\ncut -d\"#\" -f1-4 web-server-access-log.txt > extracted-data.txt\n\n# Transform phase\necho \"Transforming data\"\n\n# read the extracted data and replace the colons with commas.\ntr \"#\" \",\" < extracted-data.txt",
      "metadata": {},
      "execution_count": null,
      "outputs": []
    },
    {
      "cell_type": "markdown",
      "source": "Step 2: Save the file.\n\nStep 3: Run the script.",
      "metadata": {}
    },
    {
      "cell_type": "code",
      "source": "bash cp-access-log.sh",
      "metadata": {},
      "execution_count": null,
      "outputs": []
    },
    {
      "cell_type": "markdown",
      "source": "Step 4: Verify that the output contains ‘,’ in place of “#”.\n\nNow we need to save the transformed data to a .csv file.\n\nStep 5: Replace the tr command at end of the script with the command below.",
      "metadata": {}
    },
    {
      "cell_type": "code",
      "source": "tr \"#\" \",\" < extracted-data.txt > transformed-data.csv",
      "metadata": {},
      "execution_count": null,
      "outputs": []
    },
    {
      "cell_type": "markdown",
      "source": "added:",
      "metadata": {}
    },
    {
      "cell_type": "code",
      "source": "# cp-access-log.sh\n# This script downloads the file 'web-server-access-log.txt.gz'\n# from \"https://cf-courses-data.s3.us.cloud-object-storage.appdomain.cloud/IBM-DB0250EN-SkillsNetwork/labs/Bash%20Scripting/ETL%20using%20shell%20scripting/\".\n\n# The script then extracts the .txt file using gunzip.\n\n# The .txt file contains the timestamp, latitude, longitude \n# and visitor id apart from other data.\n\n# Transforms the text delimeter from \"#\" to \",\" and saves to a csv file.\n# Loads the data from the CSV file into the table 'access_log' in PostgreSQL database.\n\n# Extract phase\n\necho \"Extracting data\"\n\n# Extract the columns 1 (timestamp), 2 (latitude), 3 (longitude) and \n# 4 (visitorid)\n\ncut -d\"#\" -f1-4 web-server-access-log.txt > extracted-data.txt\n\n# Transform phase\necho \"Transforming data\"\n\n#Step 5: Replace the tr command at end of the script with the command below.\ntr \"#\" \",\" < extracted-data.txt > transformed-data.csv",
      "metadata": {},
      "execution_count": null,
      "outputs": []
    },
    {
      "cell_type": "markdown",
      "source": "Step 6: Save the file.\n\nStep 7: Run the script.",
      "metadata": {}
    },
    {
      "cell_type": "code",
      "source": "bash cp-access-log.sh",
      "metadata": {},
      "execution_count": null,
      "outputs": []
    },
    {
      "cell_type": "markdown",
      "source": "Step 8: Run the command below to verify that the file ‘transformed-data.csv’ is created, and has the content",
      "metadata": {}
    },
    {
      "cell_type": "code",
      "source": "cat transformed-data.csv",
      "metadata": {},
      "execution_count": null,
      "outputs": []
    },
    {
      "cell_type": "markdown",
      "source": "**Task 9.** Load the data into the table access_log in PostgreSQL\n\nPostgreSQL command to copy data from a CSV file to a table is COPY.\n\nThe basic structure of the command is,",
      "metadata": {}
    },
    {
      "cell_type": "code",
      "source": "COPY table_name FROM 'filename' DELIMITERS 'delimiter_character' FORMAT;",
      "metadata": {},
      "execution_count": null,
      "outputs": []
    },
    {
      "cell_type": "markdown",
      "source": "The file comes with a header. So use the ‘HEADER’ option in the ‘COPY’ command.\n\nInvoke this command from the shellscript, by sending it as input to ‘psql’ filter command.",
      "metadata": {}
    },
    {
      "cell_type": "markdown",
      "source": "Step 1: Add the copy command\n\nAdd the lines below to the end of the script ‘cp-access-log.sh’.",
      "metadata": {}
    },
    {
      "cell_type": "code",
      "source": "# Load phase\necho \"Loading data\"\n\n# Send the instructions to connect to 'template1' and\n# copy the file to the table 'access_log' through command pipeline.\n\necho \"\\c template1;\\COPY access_log  FROM '/home/project/transformed-data.csv' DELIMITERS ',' CSV HEADER;\" | psql --username=postgres --host=localhost",
      "metadata": {},
      "execution_count": null,
      "outputs": []
    },
    {
      "cell_type": "markdown",
      "source": "added:",
      "metadata": {}
    },
    {
      "cell_type": "code",
      "source": "# cp-access-log.sh\n# This script downloads the file 'web-server-access-log.txt.gz'\n# from \"https://cf-courses-data.s3.us.cloud-object-storage.appdomain.cloud/IBM-DB0250EN-SkillsNetwork/labs/Bash%20Scripting/ETL%20using%20shell%20scripting/\".\n\n# The script then extracts the .txt file using gunzip.\n\n# The .txt file contains the timestamp, latitude, longitude \n# and visitor id apart from other data.\n\n# Transforms the text delimeter from \"#\" to \",\" and saves to a csv file.\n# Loads the data from the CSV file into the table 'access_log' in PostgreSQL database.\n\n# Extract phase\n\necho \"Extracting data\"\n\n# Extract the columns 1 (timestamp), 2 (latitude), 3 (longitude) and \n# 4 (visitorid)\n\ncut -d\"#\" -f1-4 web-server-access-log.txt > extracted-data.txt\n\n# Transform phase\necho \"Transforming data\"\n\n#Step 5: Replace the tr command at end of the script with the command below.\ntr \"#\" \",\" < extracted-data.txt > transformed-data.csv\n\n# Load phase\necho \"Loading data\"\n\n# Send the instructions to connect to 'template1' and\n# copy the file to the table 'access_log' through command pipeline.\n\necho \"\\c template1;\\COPY access_log  FROM '/home/project/transformed-data.csv' DELIMITERS ',' CSV HEADER;\" | psql --username=postgres --host=localhost",
      "metadata": {},
      "execution_count": null,
      "outputs": []
    },
    {
      "cell_type": "markdown",
      "source": "Step 2: Save the file.",
      "metadata": {}
    },
    {
      "cell_type": "markdown",
      "source": "**Task 10.** Execute the final script.\n\nRun the final script.",
      "metadata": {}
    },
    {
      "cell_type": "code",
      "source": "bash cp-access-log.sh",
      "metadata": {},
      "execution_count": null,
      "outputs": []
    },
    {
      "cell_type": "markdown",
      "source": "Full bash script:",
      "metadata": {}
    },
    {
      "cell_type": "code",
      "source": "# cp-access-log.sh\n# This script downloads the file 'web-server-access-log.txt.gz'\n# from \"https://cf-courses-data.s3.us.cloud-object-storage.appdomain.cloud/IBM-DB0250EN-SkillsNetwork/labs/Bash%20Scripting/ETL%20using%20shell%20scripting/\".\n\n# The script then extracts the .txt file using gunzip.\n\n# The .txt file contains the timestamp, latitude, longitude \n# and visitor id apart from other data.\n\n# Transforms the text delimeter from \"#\" to \",\" and saves to a csv file.\n# Loads the data from the CSV file into the table 'access_log' in PostgreSQL database.\n# Download the access log file\n\nwget \"https://cf-courses-data.s3.us.cloud-object-storage.appdomain.cloud/IBM-DB0250EN-SkillsNetwork/labs/Bash%20Scripting/ETL%20using%20shell%20scripting/web-server-access-log.txt.gz\"\n# Unzip the file to extract the .txt file.\ngunzip -f web-server-access-log.txt.gz\n\n\n\n# Extract phase\n\necho \"Extracting data\"\n\n# Extract the columns 1 (timestamp), 2 (latitude), 3 (longitude) and \n# 4 (visitorid)\n\ncut -d\"#\" -f1-4 web-server-access-log.txt > extracted-data.txt\n\n\n\n# Transform phase\necho \"Transforming data\"\n\n# read the extracted data and replace the colons with commas.\ntr \"#\" \",\" < extracted-data.txt > transformed-data.csv\n\n\n\n# Load phase\necho \"Loading data\"\n\n# Send the instructions to connect to 'template1' and\n# copy the file to the table 'access_log' through command pipeline.\n\necho \"\\c template1;\\COPY access_log  FROM '/home/project/transformed-data.csv' DELIMITERS ',' CSV HEADER;\" | psql --username=postgres --host=localhost\n",
      "metadata": {},
      "execution_count": null,
      "outputs": []
    },
    {
      "cell_type": "markdown",
      "source": "**Task 11.** Verify by querying the database.",
      "metadata": {}
    },
    {
      "cell_type": "markdown",
      "source": "Run the command below at the shell prompt to verify that the table accesss_log is populated with the data.",
      "metadata": {}
    },
    {
      "cell_type": "code",
      "source": "echo '\\c template1; \\\\SELECT * from access_log;' | psql --username=postgres --host=localhost",
      "metadata": {},
      "execution_count": null,
      "outputs": []
    },
    {
      "cell_type": "markdown",
      "source": "You should see the records displayed on screen.",
      "metadata": {}
    },
    {
      "cell_type": "code",
      "source": "",
      "metadata": {},
      "execution_count": null,
      "outputs": []
    }
  ]
}