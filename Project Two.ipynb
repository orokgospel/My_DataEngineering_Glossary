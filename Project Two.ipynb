{
  "metadata": {
    "language_info": {
      "codemirror_mode": {
        "name": "python",
        "version": 3
      },
      "file_extension": ".py",
      "mimetype": "text/x-python",
      "name": "python",
      "nbconvert_exporter": "python",
      "pygments_lexer": "ipython3",
      "version": "3.8"
    },
    "kernelspec": {
      "name": "python",
      "display_name": "Python (Pyodide)",
      "language": "python"
    }
  },
  "nbformat_minor": 4,
  "nbformat": 4,
  "cells": [
    {
      "cell_type": "markdown",
      "source": "# Querying data in NoSQL databases",
      "metadata": {}
    },
    {
      "cell_type": "markdown",
      "source": "## Scenario",
      "metadata": {}
    },
    {
      "cell_type": "markdown",
      "source": "I am a data engineer at an e-commerce company. My company needs me to design a data platform that uses MongoDB as a NoSQL database. I will be using MongoDB to store the e-commerce catalog data.",
      "metadata": {}
    },
    {
      "cell_type": "markdown",
      "source": "## Objectives",
      "metadata": {}
    },
    {
      "cell_type": "markdown",
      "source": "In this assignment you will:\n\n- import data into a MongoDB database.\n- query data in a MongoDB database.\n- export data from MongoDB.",
      "metadata": {}
    },
    {
      "cell_type": "markdown",
      "source": "## Tools / Software",
      "metadata": {}
    },
    {
      "cell_type": "markdown",
      "source": "- MongoDB Server\n- MongoDB Command Line Backup Tools",
      "metadata": {}
    },
    {
      "cell_type": "markdown",
      "source": "## **Exercise 1** ",
      "metadata": {}
    },
    {
      "cell_type": "markdown",
      "source": "- I have to Check my computer lab or environment before I proceed with this task:\nAlso check if I have the ‘mongoimport’ and ‘mongoexport’ installed on the my computer lab, otherwise install them.\n- I need the ‘mongoimport’ and ‘mongoexport’ tools to move data in and out of the mongodb database.\n\n- To install these tools run the below commands on the terminal.\n\n\nDownload the catalog.json file from https://cf-courses-data.s3.us.cloud-object-storage.appdomain.cloud/IBM-DB0321EN-SkillsNetwork/nosql/catalog.json.",
      "metadata": {}
    },
    {
      "cell_type": "code",
      "source": "I used wget https://cf-courses-data.s3.us.cloud-object-storage.appdomain.cloud/IBM-DB0321EN-SkillsNetwork/nosql/catalog.json.",
      "metadata": {},
      "execution_count": null,
      "outputs": []
    },
    {
      "cell_type": "markdown",
      "source": "## **Exercise 2**",
      "metadata": {}
    },
    {
      "cell_type": "markdown",
      "source": "- Working with MongoDB",
      "metadata": {}
    },
    {
      "cell_type": "markdown",
      "source": "**Task 1**",
      "metadata": {}
    },
    {
      "cell_type": "markdown",
      "source": "- Import ‘catalog.json’ into mongodb server into a database named ‘catalog’ and a collection named ‘electronics’",
      "metadata": {}
    },
    {
      "cell_type": "code",
      "source": "start_mongo",
      "metadata": {},
      "execution_count": null,
      "outputs": []
    },
    {
      "cell_type": "markdown",
      "source": "creating the database 'catalog'",
      "metadata": {}
    },
    {
      "cell_type": "code",
      "source": "> use catalog",
      "metadata": {},
      "execution_count": null,
      "outputs": []
    },
    {
      "cell_type": "markdown",
      "source": "output",
      "metadata": {}
    },
    {
      "cell_type": "code",
      "source": "switched to db catalog",
      "metadata": {},
      "execution_count": null,
      "outputs": []
    },
    {
      "cell_type": "markdown",
      "source": "Create collection named 'electronics'",
      "metadata": {}
    },
    {
      "cell_type": "code",
      "source": "db.createCollection(\"electronics\")",
      "metadata": {},
      "execution_count": null,
      "outputs": []
    },
    {
      "cell_type": "markdown",
      "source": "output",
      "metadata": {}
    },
    {
      "cell_type": "code",
      "source": "{ \"ok\" : 1 }",
      "metadata": {
        "trusted": true
      },
      "execution_count": 6,
      "outputs": [
        {
          "execution_count": 6,
          "output_type": "execute_result",
          "data": {
            "text/plain": "{'ok': 1}"
          },
          "metadata": {}
        }
      ]
    },
    {
      "cell_type": "markdown",
      "source": "- Import ‘catalog.json’ into mongodb server into a database named ‘catalog’ and a collection named ‘ele",
      "metadata": {}
    },
    {
      "cell_type": "markdown",
      "source": "Using Command shell: mongoimport -u root -p MTQyMDEtb3Jva2dv --authenticationDatabase admin --db catalog --collection electronics --file catalog.json",
      "metadata": {}
    },
    {
      "cell_type": "code",
      "source": "orokgospel:/home/project$ mongoimport -u root -p MTQyMDEtb3Jva2dv --authenticationDatabase admin --db catalog --collection electronics --file catalog.json",
      "metadata": {},
      "execution_count": null,
      "outputs": []
    },
    {
      "cell_type": "markdown",
      "source": "output",
      "metadata": {}
    },
    {
      "cell_type": "code",
      "source": "2023-07-11T05:46:34.773-0400    connected to: mongodb://localhost/\n2023-07-11T05:46:34.796-0400    438 document(s) imported successfully. 0 document(s) failed to import.",
      "metadata": {},
      "execution_count": null,
      "outputs": []
    },
    {
      "cell_type": "markdown",
      "source": "**Task 2** ",
      "metadata": {}
    },
    {
      "cell_type": "markdown",
      "source": "- List out all the databases",
      "metadata": {}
    },
    {
      "cell_type": "code",
      "source": "> show dbs",
      "metadata": {},
      "execution_count": null,
      "outputs": []
    },
    {
      "cell_type": "code",
      "source": "admin    0.000GB\ncatalog  0.000GB\nconfig   0.000GB\nlocal    0.000GB",
      "metadata": {},
      "execution_count": null,
      "outputs": []
    },
    {
      "cell_type": "markdown",
      "source": "**Task 3**",
      "metadata": {}
    },
    {
      "cell_type": "markdown",
      "source": "- List out all the collections in the database",
      "metadata": {}
    },
    {
      "cell_type": "code",
      "source": "> show collections",
      "metadata": {},
      "execution_count": null,
      "outputs": []
    },
    {
      "cell_type": "markdown",
      "source": "output",
      "metadata": {}
    },
    {
      "cell_type": "code",
      "source": "electronics",
      "metadata": {},
      "execution_count": null,
      "outputs": []
    },
    {
      "cell_type": "markdown",
      "source": "**Task 4**",
      "metadata": {}
    },
    {
      "cell_type": "markdown",
      "source": "- Create an index on the field “type”",
      "metadata": {}
    },
    {
      "cell_type": "code",
      "source": "db.electronics.createIndex({ \"type\": 1 });",
      "metadata": {},
      "execution_count": null,
      "outputs": []
    },
    {
      "cell_type": "markdown",
      "source": "output",
      "metadata": {}
    },
    {
      "cell_type": "code",
      "source": "{\n        \"createdCollectionAutomatically\" : false,\n        \"numIndexesBefore\" : 1,\n        \"numIndexesAfter\" : 2,\n        \"ok\" : 1\n}",
      "metadata": {},
      "execution_count": null,
      "outputs": []
    },
    {
      "cell_type": "markdown",
      "source": "**Task 5**",
      "metadata": {}
    },
    {
      "cell_type": "markdown",
      "source": "- Write a query to find the count of laptops",
      "metadata": {}
    },
    {
      "cell_type": "code",
      "source": "> db.electronics.count({ \"type\": \"laptop\" });",
      "metadata": {},
      "execution_count": null,
      "outputs": []
    },
    {
      "cell_type": "markdown",
      "source": "output",
      "metadata": {}
    },
    {
      "cell_type": "code",
      "source": "778",
      "metadata": {
        "trusted": true
      },
      "execution_count": 16,
      "outputs": [
        {
          "execution_count": 16,
          "output_type": "execute_result",
          "data": {
            "text/plain": "778"
          },
          "metadata": {}
        }
      ]
    },
    {
      "cell_type": "markdown",
      "source": "**Task 6**",
      "metadata": {}
    },
    {
      "cell_type": "markdown",
      "source": " - Write a query to find the number of smart phones with screen size of 6 inches.",
      "metadata": {}
    },
    {
      "cell_type": "code",
      "source": "> db.electronics.aggregate([\n   { $match: { \"type\": \"smart phone\", \"screen size\": 6 } },\n   { $group: { _id: null, count: { $sum: 1 } } }\n ]).toArray()[0].count",
      "metadata": {},
      "execution_count": null,
      "outputs": []
    },
    {
      "cell_type": "markdown",
      "source": "output",
      "metadata": {}
    },
    {
      "cell_type": "code",
      "source": "16",
      "metadata": {
        "trusted": true
      },
      "execution_count": 18,
      "outputs": [
        {
          "execution_count": 18,
          "output_type": "execute_result",
          "data": {
            "text/plain": "16"
          },
          "metadata": {}
        }
      ]
    },
    {
      "cell_type": "markdown",
      "source": "**Task 7**",
      "metadata": {}
    },
    {
      "cell_type": "markdown",
      "source": "- Write a query to find out the average screen size of smart phones.",
      "metadata": {}
    },
    {
      "cell_type": "code",
      "source": "db.electronics.aggregate([\n  { $match: { type: \"smart phone\" } },\n  { $group: { _id: null, avgScreenSize: { $avg: \"$screen size\" } } }\n]);",
      "metadata": {},
      "execution_count": null,
      "outputs": []
    },
    {
      "cell_type": "markdown",
      "source": "ouput",
      "metadata": {}
    },
    {
      "cell_type": "code",
      "source": "{ \"_id\" : null, \"avgScreenSize\" : 6 }",
      "metadata": {},
      "execution_count": null,
      "outputs": []
    },
    {
      "cell_type": "markdown",
      "source": "**Task 8**",
      "metadata": {}
    },
    {
      "cell_type": "markdown",
      "source": "- Export the fields _id, “type”, “model”, from the ‘electronics’ collection into a file named electronics.csv",
      "metadata": {}
    },
    {
      "cell_type": "markdown",
      "source": "using the command shell:",
      "metadata": {}
    },
    {
      "cell_type": "code",
      "source": "theia@theiadocker-orokgospel:/home/project$ mongoexport -u root -p MTQyMDEtb3Jva2dv --authenticationDatabase admin --db catalog --collection electronics --out electronics.csv --type=csv --fields _id,type,model",
      "metadata": {},
      "execution_count": null,
      "outputs": []
    },
    {
      "cell_type": "markdown",
      "source": "output",
      "metadata": {}
    },
    {
      "cell_type": "code",
      "source": "2023-07-11T06:31:25.315-0400    connected to: mongodb://localhost/\n2023-07-11T06:31:25.336-0400    exported 876 records",
      "metadata": {},
      "execution_count": null,
      "outputs": []
    },
    {
      "cell_type": "code",
      "source": "",
      "metadata": {},
      "execution_count": null,
      "outputs": []
    }
  ]
}