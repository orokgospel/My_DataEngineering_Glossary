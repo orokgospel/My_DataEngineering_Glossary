{
  "metadata": {
    "language_info": {
      "codemirror_mode": {
        "name": "python",
        "version": 3
      },
      "file_extension": ".py",
      "mimetype": "text/x-python",
      "name": "python",
      "nbconvert_exporter": "python",
      "pygments_lexer": "ipython3",
      "version": "3.8"
    },
    "kernelspec": {
      "name": "python",
      "display_name": "Python (Pyodide)",
      "language": "python"
    }
  },
  "nbformat_minor": 4,
  "nbformat": 4,
  "cells": [
    {
      "cell_type": "markdown",
      "source": "# **Introduction to Data Engineering**",
      "metadata": {}
    },
    {
      "cell_type": "markdown",
      "source": "**Introduction to Data Engineering**",
      "metadata": {}
    },
    {
      "cell_type": "markdown",
      "source": " How much value we can derive from data really depends on just two things:\n- The accuracy of data and \n- The efficiency with which we’re able to access the data we need, when we need it. ",
      "metadata": {}
    },
    {
      "cell_type": "markdown",
      "source": "**Morden Data Ecosystem**",
      "metadata": {}
    },
    {
      "cell_type": "markdown",
      "source": "In the Data Engineering, the moderrn data ecosystem includes a network of web interconected entities that are constantly evolving. It includes:\n- Data sources, \n- Enterprise data repository, \n- Business stakeholders, and tools, \n- Applications, and \n- Infrastructure to manage data.",
      "metadata": {}
    },
    {
      "cell_type": "markdown",
      "source": "**Key Players in the Data Ecosystem**",
      "metadata": {}
    },
    {
      "cell_type": "markdown",
      "source": "To get value from data, you need a vast number of skillsets and people playing different roles. The data ecosystem is made of the following:\n- Data Engineers, \n- Data Analysts, \n- Data Scientists, \n- Business Analysts, and \n- Business Intelligence (or BI) Analysts",
      "metadata": {}
    },
    {
      "cell_type": "markdown",
      "source": "**What is Data Engineering ?**",
      "metadata": {}
    },
    {
      "cell_type": "markdown",
      "source": "Data Engineering concerns itself with the mechanics for the flow and access of data.\n\nAnd its goal is to make quality data available for fact-finding and data-driven decision making",
      "metadata": {}
    },
    {
      "cell_type": "code",
      "source": "",
      "metadata": {},
      "execution_count": null,
      "outputs": []
    }
  ]
}