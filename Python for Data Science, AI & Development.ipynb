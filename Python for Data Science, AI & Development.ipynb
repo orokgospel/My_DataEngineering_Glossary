{
  "metadata": {
    "language_info": {
      "codemirror_mode": {
        "name": "python",
        "version": 3
      },
      "file_extension": ".py",
      "mimetype": "text/x-python",
      "name": "python",
      "nbconvert_exporter": "python",
      "pygments_lexer": "ipython3",
      "version": "3.8"
    },
    "kernelspec": {
      "name": "python",
      "display_name": "Python (Pyodide)",
      "language": "python"
    }
  },
  "nbformat_minor": 4,
  "nbformat": 4,
  "cells": [
    {
      "cell_type": "markdown",
      "source": "# **Python for Data Science, AI & Development**",
      "metadata": {}
    },
    {
      "cell_type": "markdown",
      "source": "**Python Basics**",
      "metadata": {}
    },
    {
      "cell_type": "markdown",
      "source": "This module taught me the basics of Python and begins by exploring some of the different data types such as integers, real numbers, and strings. Continue with the module and learn how to use expressions in mathematical operations, store values in variables, and the many different ways to manipulate strings.",
      "metadata": {}
    },
    {
      "cell_type": "markdown",
      "source": "**Python Data Types**",
      "metadata": {}
    },
    {
      "cell_type": "markdown",
      "source": "int:\n- There is no decimal the number is of type int. You can also use the type function to verify your results.\n\nFloat:\n- There is a decimal the number is of type float. You can also use the type function to verify your results.\n\nBoolean Values:\n- Boolean values can True  or False with an uppercase T and F. \n- If we cast a Boolean False to an integer or float, we get a 0. If you cast a 1 to a Boolean, you get a True. Similarly, - if you cast a 0 to a Boolean, you get a False\n\nStr: Sequence of characters or words or text.\n- If a string contains an integer value, you can convert it to int. \n- If we convert a string that contains a non-integer value, we get an error.\n\nYou can change the type of the expression in Python, this is called typecasting by using type(value) e.g int(4.05), float(5)",
      "metadata": {}
    },
    {
      "cell_type": "markdown",
      "source": "**Expressions and Variables**",
      "metadata": {}
    },
    {
      "cell_type": "markdown",
      "source": "- Expressions are operations the python performs.\n\nFor example, basic arithmetic operations like adding and multiple numbers. We call the numbers operands, and the math symbols in this case, addition, are called operators.\n\n- Variables:We can use variables to store values.\nwe assign a value to a variable using the assignment operator, i.e, the equal sign",
      "metadata": {}
    },
    {
      "cell_type": "markdown",
      "source": "**String Operations**",
      "metadata": {}
    },
    {
      "cell_type": "markdown",
      "source": "- A string is contained within two quotes.\n- You could also use single quotes. A string can be spaces or digits.",
      "metadata": {}
    },
    {
      "cell_type": "markdown",
      "source": "**Conditions and Branching**",
      "metadata": {}
    },
    {
      "cell_type": "code",
      "source": "",
      "metadata": {},
      "execution_count": null,
      "outputs": []
    },
    {
      "cell_type": "markdown",
      "source": "**Loops**",
      "metadata": {}
    },
    {
      "cell_type": "code",
      "source": "",
      "metadata": {},
      "execution_count": null,
      "outputs": []
    },
    {
      "cell_type": "markdown",
      "source": "**Functions**",
      "metadata": {}
    },
    {
      "cell_type": "markdown",
      "source": "The function is just a piece of code you can reuse.\n- The scope of a variable is the part of the program where that variable is accessible. \n- Variables that are defined outside of any function are said to be within the global scope, meaning they can be accessed anywhere after they are defined.\n- Local variables only exist within the scope of a function.\n- If you define a variable with the keyword global, the variable will be a global variable.\n",
      "metadata": {}
    },
    {
      "cell_type": "markdown",
      "source": "**Exception Handling**",
      "metadata": {}
    },
    {
      "cell_type": "markdown",
      "source": "Exception is used to handle Errors. \nHow to write an exception involves: try…except statement, Which is it important to always define errors when creating exceptions, and to add an else and finally statement to close exception.",
      "metadata": {}
    },
    {
      "cell_type": "markdown",
      "source": "**Objects and Classes**",
      "metadata": {}
    },
    {
      "cell_type": "code",
      "source": "",
      "metadata": {},
      "execution_count": null,
      "outputs": []
    },
    {
      "cell_type": "markdown",
      "source": "**Reading Files with Open**",
      "metadata": {}
    },
    {
      "cell_type": "code",
      "source": "",
      "metadata": {},
      "execution_count": null,
      "outputs": []
    },
    {
      "cell_type": "markdown",
      "source": "**Writing Files with Open**",
      "metadata": {}
    },
    {
      "cell_type": "code",
      "source": "",
      "metadata": {},
      "execution_count": null,
      "outputs": []
    },
    {
      "cell_type": "markdown",
      "source": "**Loading Data with Pandas**",
      "metadata": {}
    },
    {
      "cell_type": "code",
      "source": "",
      "metadata": {},
      "execution_count": null,
      "outputs": []
    },
    {
      "cell_type": "markdown",
      "source": "**Pandas: Working with and Saving Data**",
      "metadata": {}
    },
    {
      "cell_type": "code",
      "source": "",
      "metadata": {},
      "execution_count": null,
      "outputs": []
    },
    {
      "cell_type": "markdown",
      "source": "**One Dimensional Numpy**",
      "metadata": {}
    },
    {
      "cell_type": "code",
      "source": "",
      "metadata": {},
      "execution_count": null,
      "outputs": []
    },
    {
      "cell_type": "markdown",
      "source": "**Two Dimensional Numpy**",
      "metadata": {}
    },
    {
      "cell_type": "code",
      "source": "",
      "metadata": {},
      "execution_count": null,
      "outputs": []
    }
  ]
}