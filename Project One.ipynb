{
  "metadata": {
    "language_info": {
      "codemirror_mode": {
        "name": "python",
        "version": 3
      },
      "file_extension": ".py",
      "mimetype": "text/x-python",
      "name": "python",
      "nbconvert_exporter": "python",
      "pygments_lexer": "ipython3",
      "version": "3.8"
    },
    "kernelspec": {
      "name": "python",
      "display_name": "Python (Pyodide)",
      "language": "python"
    }
  },
  "nbformat_minor": 4,
  "nbformat": 4,
  "cells": [
    {
      "cell_type": "markdown",
      "source": "# OLTP Database Requirements and Design",
      "metadata": {}
    },
    {
      "cell_type": "markdown",
      "source": "## OLTP database",
      "metadata": {}
    },
    {
      "cell_type": "markdown",
      "source": "Typically, an OLTP database is employed to manage day-to-day business transactions within an organization, such as those occurring in banks or supermarket chains. These databases may exhibit a predominant focus on either write operations or maintain a balanced distribution between read and write activities.",
      "metadata": {}
    },
    {
      "cell_type": "markdown",
      "source": "# OLTP database requirements:",
      "metadata": {}
    },
    {
      "cell_type": "markdown",
      "source": "An OLTP database is expected to handle a huge number of transactions per second. Each transaction usually involves accessing (read/write) a small portion of the database, in other words the payload per transaction is small.\n\nThe time taken to execute a transaction usually called latency needs to be very less.\n\nOLTP database design:\nThe schema of an OLTP database is higly normalized so as to achieve a very low latency. To further improve the latency an OLTP database stores only the recent data like the last few week's data. They are usually run on storage that is very fast like SSD.",
      "metadata": {}
    },
    {
      "cell_type": "markdown",
      "source": "## Scenario",
      "metadata": {}
    },
    {
      "cell_type": "markdown",
      "source": "As a data engineer employed at an esteemed e-commerce company, I have been entrusted with the pivotal responsibility of crafting a cutting-edge data platform. The primary objective of this undertaking is to construct a robust infrastructure that leverages MySQL as an exceptional Online Transaction Processing (OLTP) database. In this regard, MySQL will serve as the designated repository for storing all the essential OLTP data, ensuring its seamless integration within our company's operational framework.",
      "metadata": {}
    },
    {
      "cell_type": "markdown",
      "source": "## Objectives",
      "metadata": {}
    },
    {
      "cell_type": "markdown",
      "source": "In this assignment I will:\n- Design the schema for OLTP database.\n- Load data into OLTP database.\n- Automate admin tasks.",
      "metadata": {}
    },
    {
      "cell_type": "markdown",
      "source": "## Tools / Software",
      "metadata": {}
    },
    {
      "cell_type": "markdown",
      "source": "- MySQL 8.0.22\n- phpMyAdmin 5.0.4",
      "metadata": {}
    },
    {
      "cell_type": "markdown",
      "source": "## **Exercise 1** ",
      "metadata": {}
    },
    {
      "cell_type": "markdown",
      "source": "I have first of all check the environment to be used which is MySQL.",
      "metadata": {}
    },
    {
      "cell_type": "markdown",
      "source": "Before you proceed with the task:\n- I Start MySQL server.",
      "metadata": {}
    },
    {
      "cell_type": "markdown",
      "source": "## **Exercise 2**",
      "metadata": {}
    },
    {
      "cell_type": "markdown",
      "source": " Design the OLTP Database",
      "metadata": {}
    },
    {
      "cell_type": "markdown",
      "source": "**Task 1**",
      "metadata": {}
    },
    {
      "cell_type": "markdown",
      "source": "- Create a database named sales.",
      "metadata": {}
    },
    {
      "cell_type": "raw",
      "source": "mysql> CREATE DATABASE sales;",
      "metadata": {}
    },
    {
      "cell_type": "markdown",
      "source": "output",
      "metadata": {}
    },
    {
      "cell_type": "raw",
      "source": "Query OK, 1 row affected (0.01 sec)",
      "metadata": {}
    },
    {
      "cell_type": "markdown",
      "source": "**Task 2**",
      "metadata": {}
    },
    {
      "cell_type": "markdown",
      "source": "- Design a table named sales_data and Creating the sales_data table in sales database.",
      "metadata": {}
    },
    {
      "cell_type": "raw",
      "source": "mysql> USE sales;\nDatabase changed\nmysql> CREATE TABLE sales_data (\n    ->     product_id INT,\n    ->     customer_id INT,\n    ->     price DECIMAL(10, 2),\n    ->     quantity INT,\n    ->     timestamp DATETIME\n    -> );",
      "metadata": {}
    },
    {
      "cell_type": "markdown",
      "source": "output",
      "metadata": {}
    },
    {
      "cell_type": "raw",
      "source": "Query OK, 0 rows affected (0.05 sec)",
      "metadata": {}
    },
    {
      "cell_type": "markdown",
      "source": "## **Exercise 3**",
      "metadata": {}
    },
    {
      "cell_type": "markdown",
      "source": " - Load the Data",
      "metadata": {}
    },
    {
      "cell_type": "markdown",
      "source": "**Task 3**",
      "metadata": {}
    },
    {
      "cell_type": "markdown",
      "source": "- I import downloaded the file oltpdata.csv from https://cf-courses-data.s3.us.cloud-object-storage.appdomain.cloud/IBM-DB0321EN-SkillsNetwork/oltp/oltpdata.csv\n- Import the data from oltpdata.csv into sales_data table using MySQL phpMyAdmin. \n- phpMyAdmin is a web-based administration tool used for managing and manipulating MySQL databases. It provides a graphical user interface (GUI) that allows users to perform various tasks related to database management, such as creating databases, tables, and queries, importing and exporting data, managing user permissions, and executing SQL statements.",
      "metadata": {}
    },
    {
      "cell_type": "markdown",
      "source": "**Task 4**",
      "metadata": {}
    },
    {
      "cell_type": "markdown",
      "source": "- List the tables in the database",
      "metadata": {}
    },
    {
      "cell_type": "raw",
      "source": "mysql> USE sales;\nSHOW TABLES;",
      "metadata": {}
    },
    {
      "cell_type": "markdown",
      "source": "output",
      "metadata": {}
    },
    {
      "cell_type": "raw",
      "source": "+-----------------+\n| Tables_in_sales |\n+-----------------+\n| sales_data      |\n+-----------------+\n1 row in set (0.00 sec)",
      "metadata": {}
    },
    {
      "cell_type": "markdown",
      "source": "**Task 5**",
      "metadata": {}
    },
    {
      "cell_type": "markdown",
      "source": "- Write a query to find out the count of records in the tables sales_data.",
      "metadata": {}
    },
    {
      "cell_type": "raw",
      "source": "mysql> SELECT COUNT(*) AS record_count FROM sales_data;",
      "metadata": {}
    },
    {
      "cell_type": "markdown",
      "source": "output:",
      "metadata": {}
    },
    {
      "cell_type": "raw",
      "source": "+--------------+\n| record_count |\n+--------------+\n|         2605 |\n+--------------+\n1 row in set (0.00 sec)",
      "metadata": {}
    },
    {
      "cell_type": "markdown",
      "source": "## Exercise 4 ",
      "metadata": {}
    },
    {
      "cell_type": "markdown",
      "source": "Set up Admin tasks",
      "metadata": {}
    },
    {
      "cell_type": "markdown",
      "source": "**Task 6**",
      "metadata": {}
    },
    {
      "cell_type": "markdown",
      "source": "- Create an index\nCreate an index named ts on the timestamp field.",
      "metadata": {}
    },
    {
      "cell_type": "code",
      "source": "CREATE INDEX ts ON sales_data (timestamp);",
      "metadata": {},
      "execution_count": null,
      "outputs": []
    },
    {
      "cell_type": "markdown",
      "source": "The CREATE INDEX statement creates an index named \"ts\" on the \"timestamp\" field of the \"sales_data\" table. This index will help optimize queries that involve filtering or sorting based on the \"timestamp\" column, as it improves the search performance.",
      "metadata": {}
    },
    {
      "cell_type": "markdown",
      "source": "**Task 7**",
      "metadata": {}
    },
    {
      "cell_type": "markdown",
      "source": "- List indexes on the table sales_data.",
      "metadata": {}
    },
    {
      "cell_type": "code",
      "source": "SHOW INDEXES FROM sales_data;",
      "metadata": {},
      "execution_count": null,
      "outputs": []
    },
    {
      "cell_type": "markdown",
      "source": "The SHOW INDEXES FROM sales_data; statement retrieves information about the indexes present on the \"sales_data\" table. This query will display the details of all the indexes, including their names, columns, and other relevant information, associated with the \"sales_data\" table.",
      "metadata": {}
    },
    {
      "cell_type": "markdown",
      "source": "**Task 8**",
      "metadata": {}
    },
    {
      "cell_type": "markdown",
      "source": "- Write a bash script named datadump.sh that exports all the rows in the sales_data table to a file named sales_data.sql",
      "metadata": {}
    },
    {
      "cell_type": "markdown",
      "source": "Bash Script:",
      "metadata": {}
    },
    {
      "cell_type": "raw",
      "source": "#!/bin/bash\n\n# Database credentials\nDB_USER=\"root\"\nDB_PASSWORD=\"MTg5NDItb3Jva2dv\"\nDB_NAME=\"sales\"\n\n# Output file\nOUTPUT_FILE=\"sales_data.sql\"\n\n# MySQL dump command\nDUMP_COMMAND=\"mysqldump --host=127.0.0.1 --port=3306 --user=${DB_USER} --password=${DB_PASSWORD} ${DB_NAME} sales_data > ${OUTPUT_FILE}\"\n\n# Execute the MySQL dump command\neval $DUMP_COMMAND\n\n# Check if the dump command executed successfully\nif [ $? -eq 0 ]; then\n  echo \"Data dump completed successfully. The exported data is stored in ${OUTPUT_FILE}.\"\nelse\n  echo \"Data dump failed. Please check your database credentials and try again.\"\nfi\n",
      "metadata": {}
    },
    {
      "cell_type": "markdown",
      "source": "Output",
      "metadata": {}
    },
    {
      "cell_type": "raw",
      "source": "theia@theiadocker-orokgospel:/home/project$ chmod +x datadump.sh\ntheia@theiadocker-orokgospel:/home/project$ ./datadump.sh\nmysqldump: [Warning] Using a password on the command line interface can be insecure.\nData dump completed successfully. The exported data is stored in sales_data.sql.",
      "metadata": {}
    }
  ]
}